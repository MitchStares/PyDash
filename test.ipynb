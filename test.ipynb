{
 "cells": [
  {
   "cell_type": "code",
   "execution_count": 5,
   "metadata": {},
   "outputs": [],
   "source": [
    "from urllib.request import urlopen\n",
    "import json\n",
    "import pandas as pd\n",
    "import geopandas as gpd"
   ]
  },
  {
   "cell_type": "code",
   "execution_count": 25,
   "metadata": {},
   "outputs": [
    {
     "name": "stdout",
     "output_type": "stream",
     "text": [
      "<class 'geopandas.geodataframe.GeoDataFrame'>\n",
      "Int64Index: 105 entries, 6350 to 7491\n",
      "Data columns (total 11 columns):\n",
      " #   Column      Non-Null Count  Dtype   \n",
      "---  ------      --------------  -----   \n",
      " 0   AREA        105 non-null    float64 \n",
      " 1   PERIMETER   105 non-null    float64 \n",
      " 2   CSTAUSCD_   105 non-null    int64   \n",
      " 3   CSTAUSCD_I  105 non-null    int64   \n",
      " 4   FEAT_CODE   105 non-null    object  \n",
      " 5   ISLAND_NAM  70 non-null     object  \n",
      " 6   GROUP_NAME  7 non-null      object  \n",
      " 7   STATE_CODE  105 non-null    int64   \n",
      " 8   Q_INFO      105 non-null    object  \n",
      " 9   UFI         105 non-null    object  \n",
      " 10  geometry    105 non-null    geometry\n",
      "dtypes: float64(2), geometry(1), int64(3), object(5)\n",
      "memory usage: 9.8+ KB\n"
     ]
    }
   ],
   "source": [
    "eucs = pd.read_csv(\"https://raw.githubusercontent.com/MitchStares/Spatial-Analysis-in-R/master/Euc_sieberii_illawarra.csv\") \n",
    "\n",
    "nsw = gpd.read_file('/vsicurl/https://raw.githubusercontent.com/MitchStares/Spatial-Analysis-in-R/master/australia/cstauscd_r.shp')\n",
    "nsw = nsw.loc[nsw['STATE_CODE'] == 3,:]\n",
    "nsw.info()"
   ]
  },
  {
   "cell_type": "code",
   "execution_count": 21,
   "metadata": {},
   "outputs": [
    {
     "data": {
      "text/plain": [
       "<AxesSubplot: >"
      ]
     },
     "execution_count": 21,
     "metadata": {},
     "output_type": "execute_result"
    },
    {
     "data": {
      "image/png": "[encoded data removed]",
      "text/plain": [
       "<Figure size 640x480 with 1 Axes>"
      ]
     },
     "metadata": {},
     "output_type": "display_data"
    }
   ],
   "source": [
    "nsw.plot()"
   ]
  },
  {
   "cell_type": "code",
   "execution_count": 31,
   "metadata": {},
   "outputs": [
    {
     "name": "stdout",
     "output_type": "stream",
     "text": [
      "Record ID\n",
      "Catalogue Number\n",
      "Taxon Concept GUID\n",
      "Scientific Name - original\n",
      "Vernacular name - original\n",
      "Scientific Name\n",
      "Taxon Rank\n",
      "Vernacular name\n",
      "Kingdom\n",
      "Phylum\n",
      "Class\n",
      "Order\n",
      "Family\n",
      "Genus\n",
      "Species\n",
      "Subspecies\n",
      "Data Resource ID\n",
      "Data Resource Name\n",
      "Institution ID\n",
      "Institution\n",
      "Collection ID\n",
      "Collection\n",
      "Licence\n",
      "Institution Code\n",
      "Collection Code\n",
      "Locality\n",
      "Latitude - original\n",
      "Longitude - original\n",
      "Geodetic datum - original\n",
      "Latitude\n",
      "Longitude\n",
      "Coordinate Precision\n",
      "Coordinate Uncertainty in Metres\n",
      "Country - parsed\n",
      "State - parsed\n",
      "Local Government Areas 2011\n",
      "IMCRA 4 Regions\n",
      "IBRA 7 Regions\n",
      "Minimum elevation in meters\n",
      "Maximum elevation in meters\n",
      "Minimum depth in meters\n",
      "Maximum depth in meters\n",
      "Individual count\n",
      "Collector\n",
      "Year\n",
      "Month\n",
      "Day\n",
      "Event Date - parsed\n",
      "Verbatim event date\n",
      "Basis Of Record - original\n",
      "Basis Of Record\n",
      "Occurrence status\n",
      "Sex\n",
      "Preparations\n",
      "Outlier for layer\n",
      "Taxonomic Quality\n",
      "Location Quality\n"
     ]
    }
   ],
   "source": [
    "for col in eucs.columns:\n",
    "    print(col)"
   ]
  }
 ],
 "metadata": {
  "interpreter": {
   "hash": "e49f1cb0dfb1f2617797e8dafbf2aa4616f2d0fa65bf1fb075eb5aa2634c8a50"
  },
  "kernelspec": {
   "display_name": "Python 3.8.16 64-bit ('dash': conda)",
   "language": "python",
   "name": "python3"
  },
  "language_info": {
   "codemirror_mode": {
    "name": "ipython",
    "version": 3
   },
   "file_extension": ".py",
   "mimetype": "text/x-python",
   "name": "python",
   "nbconvert_exporter": "python",
   "pygments_lexer": "ipython3",
   "version": "3.8.16"
  },
  "orig_nbformat": 4
 },
 "nbformat": 4,
 "nbformat_minor": 2
}
